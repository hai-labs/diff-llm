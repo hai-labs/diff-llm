{
 "cells": [
  {
   "cell_type": "code",
   "execution_count": 1,
   "metadata": {},
   "outputs": [],
   "source": [
    "import difflib\n",
    "import json\n",
    "from pathlib import Path\n",
    "\n",
    "import matplotlib.pyplot as plt\n",
    "import pandas as pd"
   ]
  },
  {
   "cell_type": "code",
   "execution_count": 13,
   "metadata": {},
   "outputs": [
    {
     "data": {
      "text/html": [
       "<div>\n",
       "<style scoped>\n",
       "    .dataframe tbody tr th:only-of-type {\n",
       "        vertical-align: middle;\n",
       "    }\n",
       "\n",
       "    .dataframe tbody tr th {\n",
       "        vertical-align: top;\n",
       "    }\n",
       "\n",
       "    .dataframe thead th {\n",
       "        text-align: right;\n",
       "    }\n",
       "</style>\n",
       "<table border=\"1\" class=\"dataframe\">\n",
       "  <thead>\n",
       "    <tr style=\"text-align: right;\">\n",
       "      <th></th>\n",
       "      <th>before</th>\n",
       "      <th>after</th>\n",
       "      <th>diff_text</th>\n",
       "    </tr>\n",
       "  </thead>\n",
       "  <tbody>\n",
       "    <tr>\n",
       "      <th>0</th>\n",
       "      <td>* \"[[The Lifecycle of Software Objects]]\",  [[...</td>\n",
       "      <td>* \"[[The Lifecycle of Software Objects]]\",  [[...</td>\n",
       "      <td>\\n  * \"[[The Lifecycle of Software Objects]]\",...</td>\n",
       "    </tr>\n",
       "    <tr>\n",
       "      <th>1</th>\n",
       "      <td>| title = Learning with Hierarchical-Deep Mode...</td>\n",
       "      <td>| title = Learning with Hierarchical-Deep Mode...</td>\n",
       "      <td>\\n   | title = Learning with Hierarchical-Deep...</td>\n",
       "    </tr>\n",
       "    <tr>\n",
       "      <th>2</th>\n",
       "      <td>As in the ambitious moves from automatic speec...</td>\n",
       "      <td>As in the ambitious moves from automatic speec...</td>\n",
       "      <td>\\n  As in the ambitious moves from automatic s...</td>\n",
       "    </tr>\n",
       "    <tr>\n",
       "      <th>3</th>\n",
       "      <td>=== Deep neural networks ===\\nA deep neural ne...</td>\n",
       "      <td>=== Deep neural networks ===\\nA deep neural ne...</td>\n",
       "      <td>\\n  === Deep neural networks ===\\n  \\n! A deep...</td>\n",
       "    </tr>\n",
       "    <tr>\n",
       "      <th>4</th>\n",
       "      <td>{{History of Greece}}\\n'''Ancient Greece''' is...</td>\n",
       "      <td>{{History of Greece}}\\n'''Ancient Greece''' is...</td>\n",
       "      <td>\\n  {{History of Greece}}\\n  \\n! '''Ancient Gr...</td>\n",
       "    </tr>\n",
       "  </tbody>\n",
       "</table>\n",
       "</div>"
      ],
      "text/plain": [
       "                                              before  \\\n",
       "0  * \"[[The Lifecycle of Software Objects]]\",  [[...   \n",
       "1  | title = Learning with Hierarchical-Deep Mode...   \n",
       "2  As in the ambitious moves from automatic speec...   \n",
       "3  === Deep neural networks ===\\nA deep neural ne...   \n",
       "4  {{History of Greece}}\\n'''Ancient Greece''' is...   \n",
       "\n",
       "                                               after  \\\n",
       "0  * \"[[The Lifecycle of Software Objects]]\",  [[...   \n",
       "1  | title = Learning with Hierarchical-Deep Mode...   \n",
       "2  As in the ambitious moves from automatic speec...   \n",
       "3  === Deep neural networks ===\\nA deep neural ne...   \n",
       "4  {{History of Greece}}\\n'''Ancient Greece''' is...   \n",
       "\n",
       "                                           diff_text  \n",
       "0  \\n  * \"[[The Lifecycle of Software Objects]]\",...  \n",
       "1  \\n   | title = Learning with Hierarchical-Deep...  \n",
       "2  \\n  As in the ambitious moves from automatic s...  \n",
       "3  \\n  === Deep neural networks ===\\n  \\n! A deep...  \n",
       "4  \\n  {{History of Greece}}\\n  \\n! '''Ancient Gr...  "
      ]
     },
     "execution_count": 13,
     "metadata": {},
     "output_type": "execute_result"
    }
   ],
   "source": [
    "def load_dataset(dataset_dir: pd.DataFrame):\n",
    "    data = []\n",
    "    for fp in dataset_dir.glob(\"*.json\"):\n",
    "        with fp.open() as f:\n",
    "            doc_diff = json.load(f)\n",
    "        data.append(doc_diff)\n",
    "\n",
    "    return pd.DataFrame(data)\n",
    "\n",
    "dataset_dir = Path(\"./datasets/diff_corpus_small\")\n",
    "dataset = load_dataset(dataset_dir)\n",
    "dataset.head()"
   ]
  },
  {
   "cell_type": "code",
   "execution_count": 83,
   "metadata": {},
   "outputs": [
    {
     "data": {
      "text/plain": [
       "0        920\n",
       "1        312\n",
       "2       1579\n",
       "3       1625\n",
       "4        858\n",
       "        ... \n",
       "2548    1269\n",
       "2549    1724\n",
       "2550    2219\n",
       "2551     968\n",
       "2552    2704\n",
       "Length: 2553, dtype: int64"
      ]
     },
     "execution_count": 83,
     "metadata": {},
     "output_type": "execute_result"
    }
   ],
   "source": [
    "processed_dataset[[\"before_len\", \"after_len\"]].max(axis=\"columns\")"
   ]
  },
  {
   "cell_type": "code",
   "execution_count": 100,
   "metadata": {},
   "outputs": [],
   "source": [
    "processed_dataset = dataset.assign(\n",
    "    before_len=dataset.before.str.len(),\n",
    "    after_len=dataset.after.str.len(),\n",
    "    diff_len=lambda df: (df.after_len - df.before_len).abs(),\n",
    "    diff_len_norm=lambda df: df.diff_len / df[[\"before_len\", \"after_len\"]].max(axis=\"columns\"),\n",
    "    total_len=lambda df: df.before_len + df.after_len,\n",
    ")"
   ]
  },
  {
   "cell_type": "markdown",
   "metadata": {},
   "source": [
    "## Distribution of Before and After Diffs"
   ]
  },
  {
   "cell_type": "code",
   "execution_count": 98,
   "metadata": {},
   "outputs": [
    {
     "data": {
      "text/plain": [
       "<Axes: title={'center': 'text length'}, ylabel='Frequency'>"
      ]
     },
     "execution_count": 98,
     "metadata": {},
     "output_type": "execute_result"
    },
    {
     "data": {
      "image/png": "[encoded data removed]",
      "text/plain": [
       "<Figure size 640x480 with 1 Axes>"
      ]
     },
     "metadata": {},
     "output_type": "display_data"
    }
   ],
   "source": [
    "processed_dataset[[\"before_len\", \"after_len\"]].plot.hist(bins=100, alpha=0.5, title=\"text length\")"
   ]
  },
  {
   "cell_type": "markdown",
   "metadata": {},
   "source": [
    "Distribution of text length sum(before, after)"
   ]
  },
  {
   "cell_type": "code",
   "execution_count": 101,
   "metadata": {},
   "outputs": [
    {
     "data": {
      "text/plain": [
       "<Axes: title={'center': 'text length'}, ylabel='Frequency'>"
      ]
     },
     "execution_count": 101,
     "metadata": {},
     "output_type": "execute_result"
    },
    {
     "data": {
      "image/png": "[encoded data removed]",
      "text/plain": [
       "<Figure size 640x480 with 1 Axes>"
      ]
     },
     "metadata": {},
     "output_type": "display_data"
    }
   ],
   "source": [
    "processed_dataset[[\"total_len\"]].plot.hist(bins=100, alpha=0.5, title=\"text length\")"
   ]
  },
  {
   "cell_type": "markdown",
   "metadata": {},
   "source": [
    "## Distribution of Diff Length\n",
    "\n",
    "In character length"
   ]
  },
  {
   "cell_type": "code",
   "execution_count": 85,
   "metadata": {},
   "outputs": [
    {
     "data": {
      "text/plain": [
       "Text(0.5, 0, 'Diff Length (number of characters)')"
      ]
     },
     "execution_count": 85,
     "metadata": {},
     "output_type": "execute_result"
    },
    {
     "data": {
      "image/png": "[encoded data removed]",
      "text/plain": [
       "<Figure size 640x480 with 1 Axes>"
      ]
     },
     "metadata": {},
     "output_type": "display_data"
    }
   ],
   "source": [
    "axes = processed_dataset['diff_len'].plot.hist(bins=100)\n",
    "axes.set_yscale('log')\n",
    "axes.set_xlabel('Diff Length (number of characters)')"
   ]
  },
  {
   "cell_type": "markdown",
   "metadata": {},
   "source": [
    "Character length diff normalized by max(before, after)"
   ]
  },
  {
   "cell_type": "code",
   "execution_count": 90,
   "metadata": {},
   "outputs": [
    {
     "data": {
      "text/plain": [
       "Text(0.5, 0, 'Diff Length (number of characters)')"
      ]
     },
     "execution_count": 90,
     "metadata": {},
     "output_type": "execute_result"
    },
    {
     "data": {
      "image/png": "[encoded data removed]",
      "text/plain": [
       "<Figure size 640x480 with 1 Axes>"
      ]
     },
     "metadata": {},
     "output_type": "display_data"
    }
   ],
   "source": [
    "axes = processed_dataset['diff_len_norm'].plot.hist(bins=100)\n",
    "axes.set_yscale('log')\n",
    "axes.set_xlabel('Diff Length (number of characters)')"
   ]
  },
  {
   "cell_type": "markdown",
   "metadata": {},
   "source": [
    "Filter out diffs with > 5000 character difference: a lot of these are introducing\n",
    "spam or reverting spam."
   ]
  },
  {
   "cell_type": "code",
   "execution_count": 79,
   "metadata": {},
   "outputs": [
    {
     "name": "stdout",
     "output_type": "stream",
     "text": [
      "--- \n",
      "\n",
      "+++ \n",
      "\n",
      "@@ -1,182 +1 @@\n",
      "\n",
      "-{{History of Greece}}\n",
      "-'''Ancient Greece''' is the term used to describe the [[Ancient Greek|Greek]]-speaking world in ancient times. It refers not only to the geographical peninsula of modern [[Greece]], but also to  areas of [[Hellenic]] culture that were settled in ancient times by Greeks: [[Cyprus]], the [[Aegean Sea|Aegean]] coast of [[Turkey]] (then known as [[Ionia]]), [[Sicily]] and southern [[Italy]] (known as [[Magna Graecia]]), and the scattered Greek settlements on the coasts of what are now [[Albania]], [[Bulgaria]], [[Egypt]], [[Libya]], southern [[France]], southern [[Spain]], [[Catalonia]], [[Georgia (country)|Georgia]], [[Romania]], and [[Ukraine]].\n",
      "-\n",
      "-There are no fixed or universally agreed upon dates for the beginning or the end of the Ancient Greek period. In common usage it refers to all Greek history before the [[Roman Empire]], but historians use the term more precisely. Some writers include the periods of the Greek-speaking [[Mycenaean Greece|Mycenaean]] civilization that collapsed about [[1100 BC]], though most would argue that the influential [[Minoan civilization|Minoan]] was so different from later Greek cultures that it should be classed separately. \n",
      "-\n",
      "-In the modern Greek school-books, \"ancient times\" is a period of about 1000 years (from the catastrophe of [[Mycenae]] until the conquest of the country by the [[Roman Republic|Romans]]) that is divided in four periods, based on styles of art as much as culture and politics. The historical line starts with [[Greek Dark Ages]] ([[1100 BC|1100]]&ndash;[[800 BC]]). In this period artists use geometrical schemes such as squares, circles, lines to decorate [[amphora]]s and other pottery. The [[Archaic period in Greece|archaic period]] ([[800 BC|800]]&ndash;[[500 BC]]) represents those years when the artists made larger free-standing sculptures in stiff, hieratic poses with the dreamlike \"archaic smile\". In the [[classical]] years ([[500 BC|500]]&ndash;[[323 BC]]) artists perfected the style that since has been taken as exemplary: \"classical\", such as the  ([[Parthenon]]). In the [[Hellenistic Greece|Hellenistic]] years that followed the conquests of [[Alexander the Great|Alexander]] ([[323 BC|323]]&ndash;[[146 BC]]), also known as [[Alexandria]]n, aspects of Hellenic civilization expanded to Egypt and Bactria. \n",
      "-\n",
      "-Traditionally, the Ancient Greek period was taken to begin with the date of the first [[Olympic Games]] in [[776 BC]], but many historians now extend the term back to about [[1000 BC]]. The traditional date for the end of the Ancient Greek period is the death of [[Alexander the Great]] in [[323 BC]] (The following period is classed [[Hellenistic Greece|Hellenistic]]) or the integration of Greece into the [[Roman Republic]] in [[146 BC]]. \n",
      "-\n",
      "-These dates are historians' conventions and some writers treat the Ancient Greek civilization as a continuum running until the advent of [[Christianity]] in the [[3rd century]].\n",
      "-\n",
      "-Ancient Greece is considered by most historians to be the foundational culture of [[Western world|Western Civilization]]. Greek culture was a powerful influence in the [[Roman Empire]], which carried a version of it to many parts of [[Europe]]. Ancient Greek civilization has been immensely influential on the language, politics, educational systems, philosophy, art and architecture of the modern world, particularly during the [[Renaissance]] in Western Europe and again during various [[Neoclassicism|neo-Classical]] revivals in [[18th century|18th]] and [[19th century]] Europe and [[The Americas]].\n",
      "-\n",
      "-==Origins==\n",
      "-The Greeks are believed to have migrated southward into the Balkan peninsula in several waves beginning in the late [[3rd millennium BC]], the last being the [[Dorian invasion]]. The period from [[1600 BC|1600 BC]] to about [[1100 BC|1100 BC]] is described in [[History of Mycenaean Greece]] known for the reign of [[King Agamemnon]] and the wars against Troy as narrated in the epics of [[Homer]]. The period from [[1100 BC]] to the [[8th century BC]] is a \"[[Greek Dark Ages|dark age]]\" from which no primary texts survive, and only scant archaeological evidence remains. Secondary and tertiary texts such as [[Herodotus]]' ''Histories'', [[Pausanias (geographer)|Pausanias]]' ''Description of Greece'', [[Diodorus]]' ''Bibliotheca'' and [[Jerome]]'s ''[[Chronicon (Jerome)|Chronicon]]'', contain brief chronologies and king lists for this period. The history of Ancient Greece is often taken to end with the reign of [[Alexander the Great]], who died in [[323 BC]]. Subsequent events are described in [[Hellenistic Greece]].\n",
      "-\n",
      "-Any history of Ancient Greece requires a cautionary note on sources. Those Greek historians and political writers whose works have survived, notably [[Herodotus]], [[Thucydides]], [[Xenophon]], [[Demosthenes]], [[Plato]] and [[Aristotle]], were mostly either [[Athens|Athenian]] or pro-Athenian. That is why we know far more about the history and politics of Athens than of any other city, and why we know almost nothing about some cities' histories. These writers, furthermore, concentrate almost wholly on political, military and diplomatic history, and ignore economic and social history. All histories of Ancient Greece have to contend with these limits in their sources.\n",
      "-\n",
      "-==The rise of Hellas==\n",
      "-In the [[8th century BC]] Greece began to emerge from the Dark Ages which followed the fall of the Mycenaean civilization. Literacy had been lost and the Mycenaean script forgotten, but the Greeks adapted the [[Phoenician alphabet]] to [[Greek alphabet|Greek]] and from about [[800 BC]] written records begin to appear. Greece was divided into many small self-governing communities, a pattern dictated by Greek geography, where every island, valley and plain is cut off from its neighbors by the sea or mountain ranges.\n",
      "-\n",
      "-As Greece recovered economically, its population grew beyond the capacity of its limited [[arable land]], and from about [[750 BC]] the Greeks began 250 years of expansion, settling colonies in all directions. To the east, the [[Aegean Sea|Aegean]] coast of [[Anatolia|Asia Minor]] was colonized first, followed by [[History of ancient Cyprus|Cyprus]] and the coasts of [[Thrace]], the [[Sea of Marmara]] and south coast of the [[Black Sea]]. Eventually Greek colonization reached as far north-east as present day [[Ukraine]]. To the west the coasts of [[Albania]], [[Sicily]] and southern [[Italy]] were settled, followed by the south coast of [[France]], [[Corsica]], and even northeastern [[Spain]]. Greek colonies were also founded in [[Egypt]] and [[Libya]]. Modern [[Syracuse, Italy|Syracuse]], [[Naples]], [[Marseille]] and [[Istanbul]] had their beginnings as the Greek colonies Syracusa, Neapolis, Massilia and [[Byzantium|Byzantium]].\n",
      "-\n",
      "-By the [[6th century BC]] '''Hellas''' had become a cultural and linguistic area much larger than the geographical area of Greece. Greek colonies were not politically controlled by their founding cities, although they often retained religious and commercial links with them. The Greeks both at home and abroad organised themselves into independent communities, and the city (''[[polis]]'') became the basic unit of Greek government.\n",
      "-\n",
      "-First [[Crete]], then in short order the other Greek city-states, adopted the formal practice of [[pederasty]]. From its ritual roots in [[Indo-European]] prehistory, the practice was elevated to prominence, influencing [[Paideia|pedagogy]], warfare and social life, and becoming a central feature of Hellenic culture for the next thousand years.\n",
      "-\n",
      "-==Social and political conflict==\n",
      "-The Greek cities were originally monarchies, although many of them were very small and the term \"King\" (''[[basileus]]'') for their rulers is misleadingly grand. In a country always short of farmland, power rested with a small class of landowners, who formed a warrior [[aristocracy]] fighting frequent petty inter-city wars over land and rapidly ousting the monarchy. About this time the rise of a mercantile class (shown by the introduction of [[coinage]] in about [[680 BC|680 BC]]) introduced class conflict into the larger cities. From [[650 BC|650 BC]] onwards, the aristocracies had to fight not to be overthrown and replaced by [[populist]] leaders called [[tyrant|tyrants]] (''tyrranoi''), a word which did not necessarily have the modern meaning of oppressive dictators.\n",
      "-\n",
      "-By the [[6th century BC]] several cities had emerged as dominant in Greek affairs: [[Athens]], [[History of Sparta|Sparta]], [[Corinth, Greece|Corinth]], and [[Thebes (Greece)|Thebes]]. Each of them had brought the surrounding rural areas and smaller towns under their control, and Athens and Corinth had become major maritime and mercantile powers as well. Athens and Sparta developed a rivalry that dominated Greek politics for generations. \n",
      "-\n",
      "-In Sparta, the [[landed aristocracy]] retained their power, and the constitution of [[Lycurgus]] (about [[650 BC]]) entrenched their power and gave Sparta a permanent militarist regime under a dual monarchy. Sparta dominated the other cities of the [[Peloponnese]], with the sole exceptions of [[Argos|Argus]] and [[Achaia]].\n",
      "-\n",
      "-In Athens, by contrast, the monarchy was abolished in [[683 BC]], and reforms of [[Solon]] established a moderate system of aristocratic government. The aristocrats were followed by the tyranny of [[Pisistratus]] and his sons, who made the city a great naval and commercial power. When the Pisistratids were overthrown, [[Cleisthenes]] established the world's first [[Athenian democracy|democracy]] ([[500 BC]]), with power being held by an assembly of all the male citizens. But it must be remembered that only a minority of the male inhabitants were citizens, excluding slaves, freedmen and non-Athenians.\n",
      "-\n",
      "-==The Persian Wars==\n",
      "-{{main|Greco-Persian Wars}}\n",
      "-\n",
      "-In [[Ionia]] (the modern Aegean coast of [[Turkey]]) the Greek cities, which included great centres such as [[Miletus]] and [[Halicarnassus]], were unable to maintain their independence and came under the rule of the [[Persian Empire]] in the mid 6th century BC. In [[499 BC]] the Greeks rose in the [[Ionian Revolt]], and Athens and some other Greek cities went to their aid. \n",
      "-\n",
      "-In [[490 BC]] the Persian Great King, [[Darius I of Persia|Darius I]], having suppressed the Ionian cities, sent a fleet to punish the Greeks. The Persians landed in [[Attica]], but were defeated at the [[Battle of Marathon]] by a Greek army led by the Athenian general [[Miltiades]]. The burial mound of the Athenian dead can still be seen at Marathon.\n",
      "-\n",
      "-Ten years later Darius's successor, [[Xerxes I of Persia|Xerxes I]], sent a much more powerful force by land. After being delayed by the Spartan King [[Leonidas I]] at [[Battle of Thermopylae|Thermopylae]], Xerxes advanced into Attica, where he captured and burned Athens. But the Athenians had evacuated the city by sea, and under [[Themistocles]] they defeated the Persian fleet at the [[Battle of Salamis]]. A year later, the Greeks, under the Spartan [[Pausanias (general)|Pausanius]], defeated the Persian army at [[Battle of Plataea|Plataea]].\n",
      "-\n",
      "-The Athenian fleet then turned to chasing the Persians out of the [[Aegean Sea]], and in [[478 BC|478 BC]] they captured [[Byzantium]]. In the course of doing so Athens enrolled all the island states and some mainland allies into an alliance, called the [[Delian League]] because its treasury was kept on the sacred island of [[Delos]]. The Spartans, although they had taken part in the war, withdrew into isolation after it, allowing Athens to establish unchallenged naval and commercial power.\n",
      "-\n",
      "-==The dominance of Athens==\n",
      "-\n",
      "-[[Image:pericles.jpg|thumb|200px|Pericles]]\n",
      "-\n",
      "-The Persian Wars ushered in a century of Athenian dominance of Greek affairs. Athens was the unchallenged master of the sea, and also the leading commercial power, although Corinth remained a serious rival. The leading statesman of this time was [[Pericles]], who used the tribute paid by the members of the Delian League to build the [[Parthenon]] and other great monuments of classical Athens. By the mid 5th century the League had become an [[Athenian Empire]], symbolised by the transfer of the League's treasury from Delos to the Parthenon in [[454 BC|454 BC]]. \n",
      "-\n",
      "-The wealth of Athens attracted talented people from all over Greece, and also created a wealthy leisure class who became patrons of the arts. The Athenian state also sponsored learning and the arts, particularly architecture. Athens became the centre of Greek literature, philosophy (see [[Greek philosophy]]) and the arts (see [[Greek theatre]]). Some of the greatest names of Western cultural and intellectual history lived in Athens during this period: the dramatists [[Aeschylus]], [[Aristophanes]], [[Euripides]], and [[Sophocles]], the philosophers [[Aristotle]], [[Plato]], and [[Socrates]], the historians [[Herodotus]], [[Thucydides]], and [[Xenophon]], the poet [[Simonides of Ceos|Simonides]] and the sculptor [[Pheidias]]. The city became, in Pericles's words, \"the school of Hellas.\"\n",
      "-\n",
      "-The other Greek states at first accepted Athenian leadership in the continuing war against the Persians, but after the fall of the conservative politician [[Cimon]] in [[461 BC|461 BC]], Athens became an increasingly open imperialist power. After the Greek victory at the [[Battle of the Eurymedon]] in [[466 BC|466 BC]], the Persians were no longer a threat, and some states, such as [[Naxos, Greece|Naxos]], tried to secede from the League, but were forced to submit. The new Athenian leaders, [[Pericles]] and [[Ephialtes]], let relations between Athens and Sparta deteriorate, and in [[458 BC|458 BC]] war broke out. After some years of inconclusive war a 30-year peace was signed between the Delian League and the [[Peloponnesian League]] (Sparta and her allies). This coincided with the last battle between the Greeks and the Persians, a sea battle off [[Battle of Salamis (in Cyprus)|Salamis]] in [[Cyprus]], followed by the [[Peace of Callias]] ([[450 BC|450 BC]]) between the Greeks and Persians.\n",
      "-\n",
      "-==The Peloponnesian War==\n",
      "-{{main|Peloponnesian War}}\n",
      "-[[Image:Alcibiades.jpg|thumb|200px|right|Alcibiades]]\n",
      "-\n",
      "-In [[431 BC|431 BC]] war broke out again between Athens and Sparta and its allies. The immediate cause was a dispute between Corinth and one of its colonies, [[Corcyra]] (modern-day [[Corfu]]), in which Athens intervened. The obviate cause was the growing resentment of Sparta and its allies at the dominance of Athens over Greek affairs. The war lasted 27 years, partly because Athens (a naval power)  and Sparta (a land-based military power)  found it difficult to come to grips with each other. \n",
      "-\n",
      "-Sparta's initial strategy was to invade [[Attica]], but the Athenians were able to retreat behind their walls. An outbreak of [[Plague of Athens|plague]] in the city during the siege caused heavy losses, including Pericles. At the same time the Athenian fleet landed troops in the Peloponnese, winning battles at [[Battle of Naupactus (429 BC)|Naupactus]] ([[429 BC|429 BC]]) and [[Battle of Pylos|Pylos]] ([[425 BC|425 BC]]). But these tactics could bring neither side a decisive victory.\n",
      "-After several years of inconclusive campaigning, the moderate Athenian leader [[Nicias]] concluded the [[Peace of Nicias]] ([[421 BC|421 BC]]).\n",
      "-\n",
      "-In [[418 BC|418 BC]], however, hostility between Sparta and the Athenian ally [[Argos]] led to a resumption of fighting. At [[Battle of Mantinea (418 BC)|Mantinea]] Sparta defeated the combined armies of Athens and her allies. The resumption of fighting brought the war party, led by [[Alcibiades]], back to power in Athens. In [[415 BC|415 BC]] Alcibiades persuaded the Athenian Assembly to launch a major expedition against [[Syracuse, Italy|Syracuse]], a Peloponnesian ally in [[Sicily]]. Though Nicias was a skeptic about the [[Sicilian Expedition]], he was appointed along Alcibiades to lead the expedition.   Due to accusations against him, Alcibiades fled to Sparta where he persuaded Sparta to send aid to Syracuse.  As a result, the expedition was a complete disaster and the whole expeditionary force was lost.  Nicias was executed by his captors.\n",
      "-\n",
      "-Sparta had now built a fleet to challenge Athenian naval supremacy, and had found a brilliant military leader in [[Lysander]], who seized the strategic initiative by occupying the [[Hellespont]], the source of Athens' grain imports. Threatened with starvation, Athens sent its last remaining fleet to confront Lysander, who decisively defeated them at [[battle of Aegospotami|Aegospotami]] ([[405 BC|405 BC]]). The loss of her fleet threatened Athens with bankruptcy. In [[404 BC|404 BC]] Athens sued for peace, and Sparta dictated a predictably stern settlement: Athens lost her city walls, her fleet, and all of her overseas possessions. The anti-democratic party took power in Athens with Spartan support.\n",
      "-\n",
      "-==Spartan and Theban dominance==\n",
      "-\n",
      "-The end of the Peloponnesian War left Sparta the master of Greece, but the narrow outlook of the Spartan warrior elite did not suit them to this role. Within a few years the democratic party regained power in Athens and other cities. In [[395 BC|395 BC]] the Spartan rulers removed Lysander from office, and Sparta lost her naval supremacy. [[Athens]], [[Argos]], [[Thebes, Greece|Thebes]], and [[Corinth]], the latter two formerly Spartan allies, challenged Spartan dominance in the [[Corinthian War]], which ended inconclusively in [[387 BC]].  That same year Sparta shocked Greek opinion by concluding the [[Treaty of Antalcidas]] with Persia, by which they surrendered the Greek cities of Ionia and Cyprus; thus they reversed a hundred years of Greek victories against Persia. Sparta then tried to further weaken the power of Thebes, which led to a war where Thebes formed an alliance with the old enemy, Athens. \n",
      "-\n",
      "-Then the Theban generals [[Epaminondas]] and [[Pelopidas]] won a decisive victory at [[Battle of Leuctra|Leuctra]] ([[371 BC|371 BC]]). The result of this battle was the end of Spartan supremacy and the establishment of Theban dominance, but Athens herself recovered much of her former power because the supremacy of Thebes was short-lived. With the death of Epaminondas at [[Battle of Mantinea (362 BC)|Mantinea]] ([[362 BC|362 BC]]) the city lost its greatest leader, and his successors blundered into an ineffectual ten-year war with [[Phocis]]. In [[346 BC|346 BC]] the Thebans appealed to [[Philip II of Macedon]] to help them against the Phocians, thus drawing [[Macedon]] into Greek affairs for the first time.\n",
      "-\n",
      "-==The rise of Macedon==\n",
      "-\n",
      "-The Kingdom of [[Macedon]] was formed in the 7th century BC out of northern Greek tribes. They played little part in Greek politics before the beginning of the 4th century, but Philip was an ambitious man who had been educated in Thebes and wanted to play a larger role. In particular, he wanted to be accepted as the new leader of Greece in recovering the freedom of the Greek cities of Asia from Persian rule. By seizing the Greek cities of [[Amphipolis]], [[Methone]] and [[Potidaea]], he gained control of the gold and silver mines of Macedonia. This gave him the resources to realize his ambitions.\n",
      "-\n",
      "-Philip established Macedonian dominance over [[Thessaly]] ([[352 BC|352 BC]]) and [[Thrace]], and by [[348 BC|348 BC]] he controlled everything north of [[Thermopylae]]. He used his great wealth to bribe Greek politicians and create a \"Macedonian party\" in every Greek city. His intervention in the war between Thebes and Phocis brought him recognition as a Greek leader, and gave him his opportunity to become a power in Greek affairs. But despite his sincere admiration for Athens, the Athenian leader [[Demosthenes]], in a series of famous speeches ([[philippic|philippics]]) roused the Greek cities to resist his advance. \n",
      "-\n",
      "-In [[339 BC|339 BC]] Thebes, Athens, Sparta and other Greek states formed an alliance to resist Philip and expel him from the Greek cities he had occupied in the north. But Philip struck first, advancing into Greece and defeating the Greek cities at [[Chaeronea]] in [[338 BC|338 BC]]. This traditionally marks the end of the era of the Greek city-state as an independent political unit, although in fact Athens and other cities survived as independent states until [[Roman Republic|Roman]] times. \n",
      "-\n",
      "-Philip tried to win over Athens by flattery and gifts, but did not really succeed. He organised the cities into the [[League of Corinth]], and announced that he would lead an invasion of Persia to liberate the Greek cities and avenge the Persian invasions of the previous century. But before he could do so he was assassinated ([[336 BC|336 BC]]).\n",
      "-\n",
      "-==The conquests of Alexander==\n",
      "-\n",
      "-Philip was succeeded by his 20-year-old son [[Alexander the Great|Alexander]], who immediately set out to carry out his father's plans. He travelled to Corinth where the assembled Greek cities recognised him as leader of the Greeks, then set off north to assemble his forces. The army with which he invaded the Persian Empire was basically Macedonian, but many idealists from the Greek cities also enlisted. But while Alexander was campaigning in Thrace, he heard that the Greek cities had rebelled. He swept south again, captured Thebes, and razed the city to the ground as a warning to the Greek cities that his power could no longer be resisted. \n",
      "-\n",
      "-In [[334 BC|334 BC]] Alexander crossed into Asia, and defeated the Persians at the river [[Battle of the Granicus|Granicus]]. This gave him control of the Ionian coast, and he made a triumphal procession through the liberated Greek cities. After settling affairs in [[Anatolia]], he advanced south through [[Cilicia]] into [[Syria]], where he defeated [[Darius III]] at [[Battle of Issus|Issus]] ([[333 BC|333 BC]]). He then advanced through [[Phoenicia]] to [[Egypt]], which he captured with little resistance, the Egyptians welcoming him as a liberator from Persian oppression.\n",
      "-\n",
      "-Darius was now ready to make peace and Alexander could have returned home in triumph, but he was determined to conquer Persia and make himself the ruler of the world. He advanced north-east through Syria and [[Mesopotamia]], and defeated Darius again at [[Battle of Gaugamela|Gaugamela]] ([[331 BC|331 BC]]). Darius fled and was killed by his own followers, and Alexander found himself the master of the Persian Empire, occupying [[Susa]] and [[Persepolis]] without resistance.\n",
      "-\n",
      "-[[Image:Zeusganymedepederastyafghanistan.jpeg|right|thumb|220px|[[Greco-Bactrian]] coin depicting [[Zeus]] (as an eagle) being offered wine by [[Ganymede]]. A child [[Eros]] is in the foreground.]]\n",
      "-Meanwhile the Greek cities were making renewed efforts to escape from Macedonian control. At [[Battle of Megalopolis|Megalopolis]] in [[331 BC|331 BC]], Alexander's regent [[Antipater]] defeated the Spartans, who had refused to join the Corinthian League or recognise Macedonian supremacy. \n",
      "-\n",
      "-Alexander pressed on, advancing through what are now [[Afghanistan]] and [[Pakistan]] to the [[Indus river]] valley, and by [[326 BC|326 BC]] he had reached [[Punjab region|Punjab]]. He might well have advanced down the [[Ganges]] to [[Bengal]] had not his army, convinced they were at the end of the world, refused to go any further. Alexander reluctantly turned back, and died of a fever in [[Babylon]] in [[323 BC|323 BC]]. \n",
      "-\n",
      "-Alexander's empire broke up soon after his death, but his conquests permanently changed the Greek world. Thousands of Greeks travelled with him or after him to settle in the new Greek cities he had founded as he advanced, the most important being [[Alexandria]] in [[Egypt]]. Greek-speaking kingdoms in Egypt, Syria, Iran and Bactria were established. The [[History of Hellenistic Greece|Hellenistic age]] had begun.\n",
      "-\n",
      "-==Society== \n",
      "-The distinguishing features of ancient Greek society were the division between free and slave, the differing roles of men and women, the relative lack of status distinctions based on birth, and the importance of religion. The way of life of the Athenians was more common in the Greek world than Sparta's special system. \n",
      "-\n",
      "-===Social Structure=== \n",
      "-Only free people could be citizens entitled to the full protection of the law in a [[city-state]]. In most city-states, unlike [[Rome]], social promenece did not allow special rights. For example, being born in a certain family generally brought no special priviliges. Sometimes families controlled public religious functions, but this ordinarily did not give any extra power in the government. In [[Athens]], the populations was divided into four social classes based on wealth. People could change classes if they made more money. In [[Sparta]], all male citizens were given the title of \"equal\" if they finished their education. However, Spartan kings who served as the city-state's dual military and religious leaders, came from two families. \n",
      "-\n",
      "-[[Slave]]s had no power or status. They had no right to have a family, own property, and did not have legal and political rights. Children born into slavery became slaves themselves. Greeks took many slaves from non-Greek peoples, but they also enslaved other Greeks in war. No free Greek is known to have ever advocated the abolition of [[slavery]], and the Greek [[philosopher]] [[Aristotle]] referred to them as \"living tools\". By [[600 BC]] [[chattel slavery]] had spread in [[Greece]]. By the [[5th century BC]] slaves made up one-third of the total population in some city-states. Slaves outside of Sparta almost never revolted because they were made up of too many nationalities and were too scattered to organize. \n",
      "-\n",
      "-Most families owned slaves as household servants and laborers, even poor families might have owned one or two slaves. Owners were allowed to beat or kill their slaves, yet hurting good workers made no economic sense because the master would be hurting his own property. Owners often promised to free slaves in the future to encourage slaves to work hard. Unlike in Rome, slaves who were freed did not become citizens. Instead, they were mixed into the population of ''[[metics]]'', which included people from foreign countries or other city-states who were officially allowed to live in the state. \n",
      "-\n",
      "-City-states also legally owned slaves. These public slaves had a larger measure of independence than slaves owned by families, living on their own and performing specialized tasks. In Athens, public slaves were trained to look out for illegal counterfeit coinage, while temple slaves acted as servants of the temple's deity. \n",
      "-\n",
      "-Sparta had a special type of slaves called ''[[helot]]s''. Helots were Greek war captives owned by the state and assigned to families. Helots raised food and did household chores so that women could concentrate on raising strong children while men could devote their time to training as [[hoplite]]s. Their masters treated them harshly and helots often revolted.\n",
      "-\n",
      "-===Way of Life===    \n",
      "-[[Image:Black slave Louvre Br361.jpg|thumb|left|A Greek slave]]   \n",
      "-    \n",
      "-For a long time, the way of life in the Greek city-states remained the same. People living in cities resided in low [[apartment]] buildings or single-family homes, depending on their wealth. Residences, public buildings, and temples were situated around the [[agora]]. Citizens also lived in small villages and farmhouses scattered across the state's countryside. In Athens, more people lived outside the city walls than inside.    \n",
      "-    \n",
      "-A common Greek household was simple, containing bedrooms, storage rooms, and a kitchen situated around a small inner courtyard. A household consisted of a single set of parents and their children, but generally no relatives. Men were responsible for supporting the family by work or investments in land and commerce. Women were responsible for managing the household's supplies and overseeing slaves, who fetched water in jugs from public [[fountain]]s, cooked, cleaned, and looked after babies. Men kept separate rooms for entertaining guests because male visitors were not permitted in rooms where women and children spent most of their time. Wealthy men would sometimes invite friends over for a ''[[symposium]]''. Light came from [[olive oil]] [[lamp]]s, while heat came from [[charcoal]] [[brazier]]s. Furniture was simple and sparse, which included wooden chairs, tables, and beds.    \n",
      "-    \n",
      "-Ancient Greek food was simple as well. Poor people mainly ate [[barley]] [[porridge]] flavored with [[onion]]s, [[vegetables]], and [[cheese]] or olive oil. Few people ever ate meat regularly, except for the free distributions from [[animal sacrifice]]s at state festivals. Bakeries sold fresh [[bread]] daily, while small stands offered snacks. [[Wine]] diluted with [[water]] was a favored beverage.    \n",
      "-   \n",
      "-Greek clothing changed little over time. Both men and women wore loose [[tunic]]s. The tunics often had colorful designs and were worn cinched with a belt. People wore cloaks and hats in cold weather, and in warm weather [[sandal]]s replaced [[leather]] [[boots]] . Women wore [[jewellery]] and [[cosmetics]], especially powdered lead gave themselves a pale complexetion. Men grew beards until [[Alexander the Great]] created a [[vogue]] for [[shaving]].    \n",
      "-   \n",
      "-Medicine in Ancient Greece was limited. [[Hippocrates]] helped seperate superstition from medical treatment in the 5th century BC. Herbal remedies were used to reduce pain, and doctors were able to perform some surgery. But they had no cure for infections, so even healthy people could die quickly from disease at any age.    \n",
      "-    \n",
      "-To keep fit and to be ready for [[military]] service, men exercised daily. Almost every city-state had at least one [[gymnasium (ancient Greece)|gymnasium]], a combination exercise building, running track, bathing facility, lecture hall, and park, open only to males. City-state [[festival]]s provided great amounts of entertainment. Gods were honored with competitions in [[music]], [[drama]], and [[poetry]]. Athenians boasted that their city hosted a festival nearly every other day. Huge Panhellenic festivals were held at [[Olympia]], [[Delphi]], [[Nemea]], and [[Isthmia]]. Athletes and musicians who won these competitions became rich and famous. The most popular and expensive competition was [[chariot racing]].\n",
      "-\n",
      "-===Education===\n",
      "-For most of Greek history, education was private, except in Sparta. During the [[Hellenistic period]], some city-states established public schools. Only wealthy families could afford a teacher. Boys learned how to read, write and quote literature. They also learned to sing and play one musical instrument and were trained as athletes for military service. They studied not for a job but to become an effective citizen. Girls also learned to read, write and do simple [[arithmetic]] so they could manage the household. They almost never received education after childhood. \n",
      "-\n",
      "-A small number of boys continued their education after childhood. While they were teenagers, they studied [[philosophy]] as a moral guide in life, and [[rhetoric]] to help make persuasive speeches in court of a political assembly. In the [[Classical period]], this training was necessary for an ambitious young man. One important part of a wealthy teenager's education was a [[Pederasty in Ancient Greece|mentor relationship]] with an elder. The teenager learned by watching his mentor talking about politics in the agora, helping him perform his public duties, exercising with him in the gymnasium and attending symposia with him. The richest students continued their education to [[college]], and went to a [[university]] in a large city. These universities were organized by famous teachers. Some of Athen's greatest universities included the [[Lyceum]] and the [[Academy]].\n",
      "-\n",
      "-==See also==\n",
      "-\n",
      "-*[[Ancient Olympic Games]]\n",
      "-*[[Architecture of Ancient Greece]]\n",
      "-*[[Art in Ancient Greece]]\n",
      "-*[[Eleusinian Mysteries]]\n",
      "-*[[Fiction set in Ancient Greece]]\n",
      "-*[[Greek literature]]\n",
      "-*[[Greek mathematics]]\n",
      "-*[[Greek mythology]]\n",
      "-*[[Greek philosophy]]\n",
      "-*[[Greek theatre]]\n",
      "-*[[History of Athens]]\n",
      "-*[[History of the Greek language]]\n",
      "-*[[List of ancient Greeks]]\n",
      "-*[[List of ancient Greek cities]]\n",
      "-*[[Timeline of Ancient Greece]]\n",
      "-\n",
      "-[[Category:Ancient Greece| ]]\n",
      "-{{Classical antiquity}}\n",
      "-\n",
      "-[[ca:Antiga Grècia]]\n",
      "-[[de:Antikes Griechenland]]\n",
      "-[[et:Vana-Kreeka]]\n",
      "-[[el:Αρχαία Ελλάδα]]\n",
      "-[[es:Grecia Antigua]]\n",
      "-[[eo:Antikva Grekio]]\n",
      "-[[fr:Grèce antique]]\n",
      "-[[ko:고대 그리스]]\n",
      "-[[hr:Stara Grčka]]\n",
      "-[[it:Grecia antica]]\n",
      "-[[he:יוון העתיקה]]\n",
      "-[[lt:Senovės Graikija]]\n",
      "-[[lv:Senā Grieķija]]\n",
      "-[[nl:Geschiedenis van Griekenland - Deel I: de Oudheid]]\n",
      "-[[nds:Ole Grekenland]]\n",
      "-[[ja:古代ギリシア]]\n",
      "-[[pl:Starożytna Grecja]]\n",
      "-[[pt:Grécia Antiga]]\n",
      "-[[ru:Древняя Греция]]\n",
      "-[[sh:Antička Grčka]]\n",
      "-[[scn:Grecia antica]]\n",
      "-[[sr:Античка Грчка]]\n",
      "-[[fi:Antiikin Kreikka]]\n",
      "-[[th:กรีซโบราณ]]\n",
      "-[[uk:Стародавня Греція]]\n",
      "-[[zh:古希腊]]\n",
      "+Luis likes pie\n"
     ]
    }
   ],
   "source": [
    "i = 13\n",
    "before = processed_dataset[processed_dataset.diff_len.between(30_000, 40_000)].iloc[i][\"before\"]\n",
    "after = processed_dataset[processed_dataset.diff_len.between(30_000, 40_000)].iloc[i][\"after\"]\n",
    "for l in difflib.unified_diff(before.splitlines(), after.splitlines()):\n",
    "    print(l)"
   ]
  },
  {
   "cell_type": "markdown",
   "metadata": {},
   "source": [
    "Diffs with < 5000 character difference tend to be more meaningful"
   ]
  },
  {
   "cell_type": "code",
   "execution_count": 70,
   "metadata": {},
   "outputs": [
    {
     "name": "stdout",
     "output_type": "stream",
     "text": [
      "--- \n",
      "\n",
      "+++ \n",
      "\n",
      "@@ -1,4 +1,8 @@\n",
      "\n",
      " ==The dominance of Athens==\n",
      "-[[Image:www.google.com]]\n",
      "-NO INFO\n",
      "+[[Image:pericles.jpg|thumb|200px|Pericles]]\n",
      "+The Persian Wars ushered in a century of Athenian dominance of Greek affairs. Athens was the unchallenged master of the sea, and also the leading commercial power, although Corinth remained a serious rival. The leading statesman of this time was [[Pericles]], who used the tribute paid by the members of the Delian League to build the [[Parthenon]] and other great monuments of classical Athens. By the mid 5th century the League had become an [[Athenian Empire]], symbolised by the transfer of the League's treasury from Delos to the Parthenon in [[454 BC|454 BC]]. \n",
      "+\n",
      "+The wealth of Athens attracted talented people from all over Greece, and also created a wealthy leisure class who became patrons of the arts. The Athenian state also sponsored learning and the arts, particularly architecture. Athens became the centre of Greek literature, philosophy (see [[Greek philosophy]]) and the arts (see [[Greek theatre]]). Some of the greatest names of Western cultural and intellectual history lived in Athens during this period: the dramatists [[Aeschylus]], [[Aristophanes]], [[Euripides]], and [[Sophocles]], the philosophers [[Aristotle]], [[Plato]], and [[Socrates]], the historians [[Herodotus]], [[Thucydides]], and [[Xenophon]], the poet [[Simonides of Ceos|Simonides]] and the sculptor [[Pheidias]]. The city became, in Pericles's words, \"the school of Hellas.\"\n",
      "+\n",
      "+The other Greek states at first accepted Athenian leadership in the continuing war against the Persians, but after the fall of the conservative politician [[Cimon]] in [[461 BC|461 BC]], Athens became an increasingly open imperialist power. After the Greek victory at the [[Battle of the Eurymedon]] in [[466 BC|466 BC]], the Persians were no longer a threat, and some states, such as [[Naxos, Greece|Naxos]], tried to secede from the League, but were forced to submit. The new Athenian leaders, [[Pericles]] and [[Ephialtes]], let relations between Athens and Sparta deteriorate, and in [[458 BC|458 BC]] war broke out. After some years of inconclusive war a 30-year peace was signed between the [[Delian League]] and the [[Peloponnesian League]] (Sparta and her allies). This coincided with the last battle between the Greeks and the Persians, a sea battle off [[Battle of Salamis (in Cyprus)|Salamis]] in [[Cyprus]], followed by the [[Peace of Callias]] ([[450 BC|450 BC]]) between the Greeks and Persians.\n",
      "   ==The Peloponnesian War==\n"
     ]
    }
   ],
   "source": [
    "i = 200\n",
    "before = processed_dataset[processed_dataset.diff_len.between(0, 5_000)].iloc[i][\"before\"]\n",
    "after = processed_dataset[processed_dataset.diff_len.between(0, 5_000)].iloc[i][\"after\"]\n",
    "for l in difflib.unified_diff(before.splitlines(), after.splitlines()):\n",
    "    print(l)"
   ]
  },
  {
   "cell_type": "code",
   "execution_count": 104,
   "metadata": {},
   "outputs": [
    {
     "name": "stdout",
     "output_type": "stream",
     "text": [
      "--- \n",
      "\n",
      "+++ \n",
      "\n",
      "@@ -1,182 +1 @@\n",
      "\n",
      "-{{History of Greece}}\n",
      "-'''Ancient Greece''' is the term used to describe the [[Ancient Greek|Greek]]-speaking world in ancient times. It refers not only to the geographical peninsula of modern [[Greece]], but also to  areas of [[Hellenic]] culture that were settled in ancient times by Greeks: [[Cyprus]], the [[Aegean Sea|Aegean]] coast of [[Turkey]] (then known as [[Ionia]]), [[Sicily]] and southern [[Italy]] (known as [[Magna Graecia]]), and the scattered Greek settlements on the coasts of what are now [[Albania]], [[Bulgaria]], [[Egypt]], [[Libya]], southern [[France]], southern [[Spain]], [[Catalonia]], [[Georgia (country)|Georgia]], [[Romania]], and [[Ukraine]].\n",
      "-\n",
      "-There are no fixed or universally agreed upon dates for the beginning or the end of the Ancient Greek period. In common usage it refers to all Greek history before the [[Roman Empire]], but historians use the term more precisely. Some writers include the periods of the Greek-speaking [[Mycenaean Greece|Mycenaean]] civilization that collapsed about [[1100 BC]], though most would argue that the influential [[Minoan civilization|Minoan]] was so different from later Greek cultures that it should be classed separately. \n",
      "-\n",
      "-In the modern Greek school-books, \"ancient times\" is a period of about 1000 years (from the catastrophe of [[Mycenae]] until the conquest of the country by the [[Roman Republic|Romans]]) that is divided in four periods, based on styles of art as much as culture and politics. The historical line starts with [[Greek Dark Ages]] ([[1100 BC|1100]]&ndash;[[800 BC]]). In this period artists use geometrical schemes such as squares, circles, lines to decorate [[amphora]]s and other pottery. The [[Archaic period in Greece|archaic period]] ([[800 BC|800]]&ndash;[[500 BC]]) represents those years when the artists made larger free-standing sculptures in stiff, hieratic poses with the dreamlike \"archaic smile\". In the [[classical]] years ([[500 BC|500]]&ndash;[[323 BC]]) artists perfected the style that since has been taken as exemplary: \"classical\", such as the  ([[Parthenon]]). In the [[Hellenistic Greece|Hellenistic]] years that followed the conquests of [[Alexander the Great|Alexander]] ([[323 BC|323]]&ndash;[[146 BC]]), also known as [[Alexandria]]n, aspects of Hellenic civilization expanded to Egypt and Bactria. \n",
      "-\n",
      "-Traditionally, the Ancient Greek period was taken to begin with the date of the first [[Olympic Games]] in [[776 BC]], but many historians now extend the term back to about [[1000 BC]]. The traditional date for the end of the Ancient Greek period is the death of [[Alexander the Great]] in [[323 BC]] (The following period is classed [[Hellenistic Greece|Hellenistic]]) or the integration of Greece into the [[Roman Republic]] in [[146 BC]]. \n",
      "-\n",
      "-These dates are historians' conventions and some writers treat the Ancient Greek civilization as a continuum running until the advent of [[Christianity]] in the [[3rd century]].\n",
      "-\n",
      "-Ancient Greece is considered by most historians to be the foundational culture of [[Western world|Western Civilization]]. Greek culture was a powerful influence in the [[Roman Empire]], which carried a version of it to many parts of [[Europe]]. Ancient Greek civilization has been immensely influential on the language, politics, educational systems, philosophy, art and architecture of the modern world, particularly during the [[Renaissance]] in Western Europe and again during various [[Neoclassicism|neo-Classical]] revivals in [[18th century|18th]] and [[19th century]] Europe and [[The Americas]].\n",
      "-\n",
      "-==Origins==\n",
      "-The Greeks are believed to have migrated southward into the Balkan peninsula in several waves beginning in the late [[3rd millennium BC]], the last being the [[Dorian invasion]]. The period from [[1600 BC|1600 BC]] to about [[1100 BC|1100 BC]] is described in [[History of Mycenaean Greece]] known for the reign of [[King Agamemnon]] and the wars against Troy as narrated in the epics of [[Homer]]. The period from [[1100 BC]] to the [[8th century BC]] is a \"[[Greek Dark Ages|dark age]]\" from which no primary texts survive, and only scant archaeological evidence remains. Secondary and tertiary texts such as [[Herodotus]]' ''Histories'', [[Pausanias (geographer)|Pausanias]]' ''Description of Greece'', [[Diodorus]]' ''Bibliotheca'' and [[Jerome]]'s ''[[Chronicon (Jerome)|Chronicon]]'', contain brief chronologies and king lists for this period. The history of Ancient Greece is often taken to end with the reign of [[Alexander the Great]], who died in [[323 BC]]. Subsequent events are described in [[Hellenistic Greece]].\n",
      "-\n",
      "-Any history of Ancient Greece requires a cautionary note on sources. Those Greek historians and political writers whose works have survived, notably [[Herodotus]], [[Thucydides]], [[Xenophon]], [[Demosthenes]], [[Plato]] and [[Aristotle]], were mostly either [[Athens|Athenian]] or pro-Athenian. That is why we know far more about the history and politics of Athens than of any other city, and why we know almost nothing about some cities' histories. These writers, furthermore, concentrate almost wholly on political, military and diplomatic history, and ignore economic and social history. All histories of Ancient Greece have to contend with these limits in their sources.\n",
      "-\n",
      "-==The rise of Hellas==\n",
      "-In the [[8th century BC]] Greece began to emerge from the Dark Ages which followed the fall of the Mycenaean civilization. Literacy had been lost and the Mycenaean script forgotten, but the Greeks adapted the [[Phoenician alphabet]] to [[Greek alphabet|Greek]] and from about [[800 BC]] written records begin to appear. Greece was divided into many small self-governing communities, a pattern dictated by Greek geography, where every island, valley and plain is cut off from its neighbors by the sea or mountain ranges.\n",
      "-\n",
      "-As Greece recovered economically, its population grew beyond the capacity of its limited [[arable land]], and from about [[750 BC]] the Greeks began 250 years of expansion, settling colonies in all directions. To the east, the [[Aegean Sea|Aegean]] coast of [[Anatolia|Asia Minor]] was colonized first, followed by [[History of ancient Cyprus|Cyprus]] and the coasts of [[Thrace]], the [[Sea of Marmara]] and south coast of the [[Black Sea]]. Eventually Greek colonization reached as far north-east as present day [[Ukraine]]. To the west the coasts of [[Albania]], [[Sicily]] and southern [[Italy]] were settled, followed by the south coast of [[France]], [[Corsica]], and even northeastern [[Spain]]. Greek colonies were also founded in [[Egypt]] and [[Libya]]. Modern [[Syracuse, Italy|Syracuse]], [[Naples]], [[Marseille]] and [[Istanbul]] had their beginnings as the Greek colonies Syracusa, Neapolis, Massilia and [[Byzantium|Byzantium]].\n",
      "-\n",
      "-By the [[6th century BC]] '''Hellas''' had become a cultural and linguistic area much larger than the geographical area of Greece. Greek colonies were not politically controlled by their founding cities, although they often retained religious and commercial links with them. The Greeks both at home and abroad organised themselves into independent communities, and the city (''[[polis]]'') became the basic unit of Greek government.\n",
      "-\n",
      "-First [[Crete]], then in short order the other Greek city-states, adopted the formal practice of [[pederasty]]. From its ritual roots in [[Indo-European]] prehistory, the practice was elevated to prominence, influencing [[Paideia|pedagogy]], warfare and social life, and becoming a central feature of Hellenic culture for the next thousand years.\n",
      "-\n",
      "-==Social and political conflict==\n",
      "-The Greek cities were originally monarchies, although many of them were very small and the term \"King\" (''[[basileus]]'') for their rulers is misleadingly grand. In a country always short of farmland, power rested with a small class of landowners, who formed a warrior [[aristocracy]] fighting frequent petty inter-city wars over land and rapidly ousting the monarchy. About this time the rise of a mercantile class (shown by the introduction of [[coinage]] in about [[680 BC|680 BC]]) introduced class conflict into the larger cities. From [[650 BC|650 BC]] onwards, the aristocracies had to fight not to be overthrown and replaced by [[populist]] leaders called [[tyrant|tyrants]] (''tyrranoi''), a word which did not necessarily have the modern meaning of oppressive dictators.\n",
      "-\n",
      "-By the [[6th century BC]] several cities had emerged as dominant in Greek affairs: [[Athens]], [[History of Sparta|Sparta]], [[Corinth, Greece|Corinth]], and [[Thebes (Greece)|Thebes]]. Each of them had brought the surrounding rural areas and smaller towns under their control, and Athens and Corinth had become major maritime and mercantile powers as well. Athens and Sparta developed a rivalry that dominated Greek politics for generations. \n",
      "-\n",
      "-In Sparta, the [[landed aristocracy]] retained their power, and the constitution of [[Lycurgus]] (about [[650 BC]]) entrenched their power and gave Sparta a permanent militarist regime under a dual monarchy. Sparta dominated the other cities of the [[Peloponnese]], with the sole exceptions of [[Argos|Argus]] and [[Achaia]].\n",
      "-\n",
      "-In Athens, by contrast, the monarchy was abolished in [[683 BC]], and reforms of [[Solon]] established a moderate system of aristocratic government. The aristocrats were followed by the tyranny of [[Pisistratus]] and his sons, who made the city a great naval and commercial power. When the Pisistratids were overthrown, [[Cleisthenes]] established the world's first [[Athenian democracy|democracy]] ([[500 BC]]), with power being held by an assembly of all the male citizens. But it must be remembered that only a minority of the male inhabitants were citizens, excluding slaves, freedmen and non-Athenians.\n",
      "-\n",
      "-==The Persian Wars==\n",
      "-{{main|Greco-Persian Wars}}\n",
      "-\n",
      "-In [[Ionia]] (the modern Aegean coast of [[Turkey]]) the Greek cities, which included great centres such as [[Miletus]] and [[Halicarnassus]], were unable to maintain their independence and came under the rule of the [[Persian Empire]] in the mid 6th century BC. In [[499 BC]] the Greeks rose in the [[Ionian Revolt]], and Athens and some other Greek cities went to their aid. \n",
      "-\n",
      "-In [[490 BC]] the Persian Great King, [[Darius I of Persia|Darius I]], having suppressed the Ionian cities, sent a fleet to punish the Greeks. The Persians landed in [[Attica]], but were defeated at the [[Battle of Marathon]] by a Greek army led by the Athenian general [[Miltiades]]. The burial mound of the Athenian dead can still be seen at Marathon.\n",
      "-\n",
      "-Ten years later Darius's successor, [[Xerxes I of Persia|Xerxes I]], sent a much more powerful force by land. After being delayed by the Spartan King [[Leonidas I]] at [[Battle of Thermopylae|Thermopylae]], Xerxes advanced into Attica, where he captured and burned Athens. But the Athenians had evacuated the city by sea, and under [[Themistocles]] they defeated the Persian fleet at the [[Battle of Salamis]]. A year later, the Greeks, under the Spartan [[Pausanias (general)|Pausanius]], defeated the Persian army at [[Battle of Plataea|Plataea]].\n",
      "-\n",
      "-The Athenian fleet then turned to chasing the Persians out of the [[Aegean Sea]], and in [[478 BC|478 BC]] they captured [[Byzantium]]. In the course of doing so Athens enrolled all the island states and some mainland allies into an alliance, called the [[Delian League]] because its treasury was kept on the sacred island of [[Delos]]. The Spartans, although they had taken part in the war, withdrew into isolation after it, allowing Athens to establish unchallenged naval and commercial power.\n",
      "-\n",
      "-==The dominance of Athens==\n",
      "-\n",
      "-[[Image:pericles.jpg|thumb|200px|Pericles]]\n",
      "-\n",
      "-The Persian Wars ushered in a century of Athenian dominance of Greek affairs. Athens was the unchallenged master of the sea, and also the leading commercial power, although Corinth remained a serious rival. The leading statesman of this time was [[Pericles]], who used the tribute paid by the members of the Delian League to build the [[Parthenon]] and other great monuments of classical Athens. By the mid 5th century the League had become an [[Athenian Empire]], symbolised by the transfer of the League's treasury from Delos to the Parthenon in [[454 BC|454 BC]]. \n",
      "-\n",
      "-The wealth of Athens attracted talented people from all over Greece, and also created a wealthy leisure class who became patrons of the arts. The Athenian state also sponsored learning and the arts, particularly architecture. Athens became the centre of Greek literature, philosophy (see [[Greek philosophy]]) and the arts (see [[Greek theatre]]). Some of the greatest names of Western cultural and intellectual history lived in Athens during this period: the dramatists [[Aeschylus]], [[Aristophanes]], [[Euripides]], and [[Sophocles]], the philosophers [[Aristotle]], [[Plato]], and [[Socrates]], the historians [[Herodotus]], [[Thucydides]], and [[Xenophon]], the poet [[Simonides of Ceos|Simonides]] and the sculptor [[Pheidias]]. The city became, in Pericles's words, \"the school of Hellas.\"\n",
      "-\n",
      "-The other Greek states at first accepted Athenian leadership in the continuing war against the Persians, but after the fall of the conservative politician [[Cimon]] in [[461 BC|461 BC]], Athens became an increasingly open imperialist power. After the Greek victory at the [[Battle of the Eurymedon]] in [[466 BC|466 BC]], the Persians were no longer a threat, and some states, such as [[Naxos, Greece|Naxos]], tried to secede from the League, but were forced to submit. The new Athenian leaders, [[Pericles]] and [[Ephialtes]], let relations between Athens and Sparta deteriorate, and in [[458 BC|458 BC]] war broke out. After some years of inconclusive war a 30-year peace was signed between the Delian League and the [[Peloponnesian League]] (Sparta and her allies). This coincided with the last battle between the Greeks and the Persians, a sea battle off [[Battle of Salamis (in Cyprus)|Salamis]] in [[Cyprus]], followed by the [[Peace of Callias]] ([[450 BC|450 BC]]) between the Greeks and Persians.\n",
      "-\n",
      "-==The Peloponnesian War==\n",
      "-{{main|Peloponnesian War}}\n",
      "-[[Image:Alcibiades.jpg|thumb|200px|right|Alcibiades]]\n",
      "-\n",
      "-In [[431 BC|431 BC]] war broke out again between Athens and Sparta and its allies. The immediate cause was a dispute between Corinth and one of its colonies, [[Corcyra]] (modern-day [[Corfu]]), in which Athens intervened. The obviate cause was the growing resentment of Sparta and its allies at the dominance of Athens over Greek affairs. The war lasted 27 years, partly because Athens (a naval power)  and Sparta (a land-based military power)  found it difficult to come to grips with each other. \n",
      "-\n",
      "-Sparta's initial strategy was to invade [[Attica]], but the Athenians were able to retreat behind their walls. An outbreak of [[Plague of Athens|plague]] in the city during the siege caused heavy losses, including Pericles. At the same time the Athenian fleet landed troops in the Peloponnese, winning battles at [[Battle of Naupactus (429 BC)|Naupactus]] ([[429 BC|429 BC]]) and [[Battle of Pylos|Pylos]] ([[425 BC|425 BC]]). But these tactics could bring neither side a decisive victory.\n",
      "-After several years of inconclusive campaigning, the moderate Athenian leader [[Nicias]] concluded the [[Peace of Nicias]] ([[421 BC|421 BC]]).\n",
      "-\n",
      "-In [[418 BC|418 BC]], however, hostility between Sparta and the Athenian ally [[Argos]] led to a resumption of fighting. At [[Battle of Mantinea (418 BC)|Mantinea]] Sparta defeated the combined armies of Athens and her allies. The resumption of fighting brought the war party, led by [[Alcibiades]], back to power in Athens. In [[415 BC|415 BC]] Alcibiades persuaded the Athenian Assembly to launch a major expedition against [[Syracuse, Italy|Syracuse]], a Peloponnesian ally in [[Sicily]]. Though Nicias was a skeptic about the [[Sicilian Expedition]], he was appointed along Alcibiades to lead the expedition.   Due to accusations against him, Alcibiades fled to Sparta where he persuaded Sparta to send aid to Syracuse.  As a result, the expedition was a complete disaster and the whole expeditionary force was lost.  Nicias was executed by his captors.\n",
      "-\n",
      "-Sparta had now built a fleet to challenge Athenian naval supremacy, and had found a brilliant military leader in [[Lysander]], who seized the strategic initiative by occupying the [[Hellespont]], the source of Athens' grain imports. Threatened with starvation, Athens sent its last remaining fleet to confront Lysander, who decisively defeated them at [[battle of Aegospotami|Aegospotami]] ([[405 BC|405 BC]]). The loss of her fleet threatened Athens with bankruptcy. In [[404 BC|404 BC]] Athens sued for peace, and Sparta dictated a predictably stern settlement: Athens lost her city walls, her fleet, and all of her overseas possessions. The anti-democratic party took power in Athens with Spartan support.\n",
      "-\n",
      "-==Spartan and Theban dominance==\n",
      "-\n",
      "-The end of the Peloponnesian War left Sparta the master of Greece, but the narrow outlook of the Spartan warrior elite did not suit them to this role. Within a few years the democratic party regained power in Athens and other cities. In [[395 BC|395 BC]] the Spartan rulers removed Lysander from office, and Sparta lost her naval supremacy. [[Athens]], [[Argos]], [[Thebes, Greece|Thebes]], and [[Corinth]], the latter two formerly Spartan allies, challenged Spartan dominance in the [[Corinthian War]], which ended inconclusively in [[387 BC]].  That same year Sparta shocked Greek opinion by concluding the [[Treaty of Antalcidas]] with Persia, by which they surrendered the Greek cities of Ionia and Cyprus; thus they reversed a hundred years of Greek victories against Persia. Sparta then tried to further weaken the power of Thebes, which led to a war where Thebes formed an alliance with the old enemy, Athens. \n",
      "-\n",
      "-Then the Theban generals [[Epaminondas]] and [[Pelopidas]] won a decisive victory at [[Battle of Leuctra|Leuctra]] ([[371 BC|371 BC]]). The result of this battle was the end of Spartan supremacy and the establishment of Theban dominance, but Athens herself recovered much of her former power because the supremacy of Thebes was short-lived. With the death of Epaminondas at [[Battle of Mantinea (362 BC)|Mantinea]] ([[362 BC|362 BC]]) the city lost its greatest leader, and his successors blundered into an ineffectual ten-year war with [[Phocis]]. In [[346 BC|346 BC]] the Thebans appealed to [[Philip II of Macedon]] to help them against the Phocians, thus drawing [[Macedon]] into Greek affairs for the first time.\n",
      "-\n",
      "-==The rise of Macedon==\n",
      "-\n",
      "-The Kingdom of [[Macedon]] was formed in the 7th century BC out of northern Greek tribes. They played little part in Greek politics before the beginning of the 4th century, but Philip was an ambitious man who had been educated in Thebes and wanted to play a larger role. In particular, he wanted to be accepted as the new leader of Greece in recovering the freedom of the Greek cities of Asia from Persian rule. By seizing the Greek cities of [[Amphipolis]], [[Methone]] and [[Potidaea]], he gained control of the gold and silver mines of Macedonia. This gave him the resources to realize his ambitions.\n",
      "-\n",
      "-Philip established Macedonian dominance over [[Thessaly]] ([[352 BC|352 BC]]) and [[Thrace]], and by [[348 BC|348 BC]] he controlled everything north of [[Thermopylae]]. He used his great wealth to bribe Greek politicians and create a \"Macedonian party\" in every Greek city. His intervention in the war between Thebes and Phocis brought him recognition as a Greek leader, and gave him his opportunity to become a power in Greek affairs. But despite his sincere admiration for Athens, the Athenian leader [[Demosthenes]], in a series of famous speeches ([[philippic|philippics]]) roused the Greek cities to resist his advance. \n",
      "-\n",
      "-In [[339 BC|339 BC]] Thebes, Athens, Sparta and other Greek states formed an alliance to resist Philip and expel him from the Greek cities he had occupied in the north. But Philip struck first, advancing into Greece and defeating the Greek cities at [[Chaeronea]] in [[338 BC|338 BC]]. This traditionally marks the end of the era of the Greek city-state as an independent political unit, although in fact Athens and other cities survived as independent states until [[Roman Republic|Roman]] times. \n",
      "-\n",
      "-Philip tried to win over Athens by flattery and gifts, but did not really succeed. He organised the cities into the [[League of Corinth]], and announced that he would lead an invasion of Persia to liberate the Greek cities and avenge the Persian invasions of the previous century. But before he could do so he was assassinated ([[336 BC|336 BC]]).\n",
      "-\n",
      "-==The conquests of Alexander==\n",
      "-\n",
      "-Philip was succeeded by his 20-year-old son [[Alexander the Great|Alexander]], who immediately set out to carry out his father's plans. He travelled to Corinth where the assembled Greek cities recognised him as leader of the Greeks, then set off north to assemble his forces. The army with which he invaded the Persian Empire was basically Macedonian, but many idealists from the Greek cities also enlisted. But while Alexander was campaigning in Thrace, he heard that the Greek cities had rebelled. He swept south again, captured Thebes, and razed the city to the ground as a warning to the Greek cities that his power could no longer be resisted. \n",
      "-\n",
      "-In [[334 BC|334 BC]] Alexander crossed into Asia, and defeated the Persians at the river [[Battle of the Granicus|Granicus]]. This gave him control of the Ionian coast, and he made a triumphal procession through the liberated Greek cities. After settling affairs in [[Anatolia]], he advanced south through [[Cilicia]] into [[Syria]], where he defeated [[Darius III]] at [[Battle of Issus|Issus]] ([[333 BC|333 BC]]). He then advanced through [[Phoenicia]] to [[Egypt]], which he captured with little resistance, the Egyptians welcoming him as a liberator from Persian oppression.\n",
      "-\n",
      "-Darius was now ready to make peace and Alexander could have returned home in triumph, but he was determined to conquer Persia and make himself the ruler of the world. He advanced north-east through Syria and [[Mesopotamia]], and defeated Darius again at [[Battle of Gaugamela|Gaugamela]] ([[331 BC|331 BC]]). Darius fled and was killed by his own followers, and Alexander found himself the master of the Persian Empire, occupying [[Susa]] and [[Persepolis]] without resistance.\n",
      "-\n",
      "-[[Image:Zeusganymedepederastyafghanistan.jpeg|right|thumb|220px|[[Greco-Bactrian]] coin depicting [[Zeus]] (as an eagle) being offered wine by [[Ganymede]]. A child [[Eros]] is in the foreground.]]\n",
      "-Meanwhile the Greek cities were making renewed efforts to escape from Macedonian control. At [[Battle of Megalopolis|Megalopolis]] in [[331 BC|331 BC]], Alexander's regent [[Antipater]] defeated the Spartans, who had refused to join the Corinthian League or recognise Macedonian supremacy. \n",
      "-\n",
      "-Alexander pressed on, advancing through what are now [[Afghanistan]] and [[Pakistan]] to the [[Indus river]] valley, and by [[326 BC|326 BC]] he had reached [[Punjab region|Punjab]]. He might well have advanced down the [[Ganges]] to [[Bengal]] had not his army, convinced they were at the end of the world, refused to go any further. Alexander reluctantly turned back, and died of a fever in [[Babylon]] in [[323 BC|323 BC]]. \n",
      "-\n",
      "-Alexander's empire broke up soon after his death, but his conquests permanently changed the Greek world. Thousands of Greeks travelled with him or after him to settle in the new Greek cities he had founded as he advanced, the most important being [[Alexandria]] in [[Egypt]]. Greek-speaking kingdoms in Egypt, Syria, Iran and Bactria were established. The [[History of Hellenistic Greece|Hellenistic age]] had begun.\n",
      "-\n",
      "-==Society== \n",
      "-The distinguishing features of ancient Greek society were the division between free and slave, the differing roles of men and women, the relative lack of status distinctions based on birth, and the importance of religion. The way of life of the Athenians was more common in the Greek world than Sparta's special system. \n",
      "-\n",
      "-===Social Structure=== \n",
      "-Only free people could be citizens entitled to the full protection of the law in a [[city-state]]. In most city-states, unlike [[Rome]], social promenece did not allow special rights. For example, being born in a certain family generally brought no special priviliges. Sometimes families controlled public religious functions, but this ordinarily did not give any extra power in the government. In [[Athens]], the populations was divided into four social classes based on wealth. People could change classes if they made more money. In [[Sparta]], all male citizens were given the title of \"equal\" if they finished their education. However, Spartan kings who served as the city-state's dual military and religious leaders, came from two families. \n",
      "-\n",
      "-[[Slave]]s had no power or status. They had no right to have a family, own property, and did not have legal and political rights. Children born into slavery became slaves themselves. Greeks took many slaves from non-Greek peoples, but they also enslaved other Greeks in war. No free Greek is known to have ever advocated the abolition of [[slavery]], and the Greek [[philosopher]] [[Aristotle]] referred to them as \"living tools\". By [[600 BC]] [[chattel slavery]] had spread in [[Greece]]. By the [[5th century BC]] slaves made up one-third of the total population in some city-states. Slaves outside of Sparta almost never revolted because they were made up of too many nationalities and were too scattered to organize. \n",
      "-\n",
      "-Most families owned slaves as household servants and laborers, even poor families might have owned one or two slaves. Owners were allowed to beat or kill their slaves, yet hurting good workers made no economic sense because the master would be hurting his own property. Owners often promised to free slaves in the future to encourage slaves to work hard. Unlike in Rome, slaves who were freed did not become citizens. Instead, they were mixed into the population of ''[[metics]]'', which included people from foreign countries or other city-states who were officially allowed to live in the state. \n",
      "-\n",
      "-City-states also legally owned slaves. These public slaves had a larger measure of independence than slaves owned by families, living on their own and performing specialized tasks. In Athens, public slaves were trained to look out for illegal counterfeit coinage, while temple slaves acted as servants of the temple's deity. \n",
      "-\n",
      "-Sparta had a special type of slaves called ''[[helot]]s''. Helots were Greek war captives owned by the state and assigned to families. Helots raised food and did household chores so that women could concentrate on raising strong children while men could devote their time to training as [[hoplite]]s. Their masters treated them harshly and helots often revolted.\n",
      "-\n",
      "-===Way of Life===    \n",
      "-[[Image:Black slave Louvre Br361.jpg|thumb|left|A Greek slave]]   \n",
      "-    \n",
      "-For a long time, the way of life in the Greek city-states remained the same. People living in cities resided in low [[apartment]] buildings or single-family homes, depending on their wealth. Residences, public buildings, and temples were situated around the [[agora]]. Citizens also lived in small villages and farmhouses scattered across the state's countryside. In Athens, more people lived outside the city walls than inside.    \n",
      "-    \n",
      "-A common Greek household was simple, containing bedrooms, storage rooms, and a kitchen situated around a small inner courtyard. A household consisted of a single set of parents and their children, but generally no relatives. Men were responsible for supporting the family by work or investments in land and commerce. Women were responsible for managing the household's supplies and overseeing slaves, who fetched water in jugs from public [[fountain]]s, cooked, cleaned, and looked after babies. Men kept separate rooms for entertaining guests because male visitors were not permitted in rooms where women and children spent most of their time. Wealthy men would sometimes invite friends over for a ''[[symposium]]''. Light came from [[olive oil]] [[lamp]]s, while heat came from [[charcoal]] [[brazier]]s. Furniture was simple and sparse, which included wooden chairs, tables, and beds.    \n",
      "-    \n",
      "-Ancient Greek food was simple as well. Poor people mainly ate [[barley]] [[porridge]] flavored with [[onion]]s, [[vegetables]], and [[cheese]] or olive oil. Few people ever ate meat regularly, except for the free distributions from [[animal sacrifice]]s at state festivals. Bakeries sold fresh [[bread]] daily, while small stands offered snacks. [[Wine]] diluted with [[water]] was a favored beverage.    \n",
      "-   \n",
      "-Greek clothing changed little over time. Both men and women wore loose [[tunic]]s. The tunics often had colorful designs and were worn cinched with a belt. People wore cloaks and hats in cold weather, and in warm weather [[sandal]]s replaced [[leather]] [[boots]] . Women wore [[jewellery]] and [[cosmetics]], especially powdered lead gave themselves a pale complexetion. Men grew beards until [[Alexander the Great]] created a [[vogue]] for [[shaving]].    \n",
      "-   \n",
      "-Medicine in Ancient Greece was limited. [[Hippocrates]] helped seperate superstition from medical treatment in the 5th century BC. Herbal remedies were used to reduce pain, and doctors were able to perform some surgery. But they had no cure for infections, so even healthy people could die quickly from disease at any age.    \n",
      "-    \n",
      "-To keep fit and to be ready for [[military]] service, men exercised daily. Almost every city-state had at least one [[gymnasium (ancient Greece)|gymnasium]], a combination exercise building, running track, bathing facility, lecture hall, and park, open only to males. City-state [[festival]]s provided great amounts of entertainment. Gods were honored with competitions in [[music]], [[drama]], and [[poetry]]. Athenians boasted that their city hosted a festival nearly every other day. Huge Panhellenic festivals were held at [[Olympia]], [[Delphi]], [[Nemea]], and [[Isthmia]]. Athletes and musicians who won these competitions became rich and famous. The most popular and expensive competition was [[chariot racing]].\n",
      "-\n",
      "-===Education===\n",
      "-For most of Greek history, education was private, except in Sparta. During the [[Hellenistic period]], some city-states established public schools. Only wealthy families could afford a teacher. Boys learned how to read, write and quote literature. They also learned to sing and play one musical instrument and were trained as athletes for military service. They studied not for a job but to become an effective citizen. Girls also learned to read, write and do simple [[arithmetic]] so they could manage the household. They almost never received education after childhood. \n",
      "-\n",
      "-A small number of boys continued their education after childhood. While they were teenagers, they studied [[philosophy]] as a moral guide in life, and [[rhetoric]] to help make persuasive speeches in court of a political assembly. In the [[Classical period]], this training was necessary for an ambitious young man. One important part of a wealthy teenager's education was a [[Pederasty in Ancient Greece|mentor relationship]] with an elder. The teenager learned by watching his mentor talking about politics in the agora, helping him perform his public duties, exercising with him in the gymnasium and attending symposia with him. The richest students continued their education to [[college]], and went to a [[university]] in a large city. These universities were organized by famous teachers. Some of Athen's greatest universities included the [[Lyceum]] and the [[Academy]].\n",
      "-\n",
      "-==See also==\n",
      "-\n",
      "-*[[Ancient Olympic Games]]\n",
      "-*[[Architecture of Ancient Greece]]\n",
      "-*[[Art in Ancient Greece]]\n",
      "-*[[Eleusinian Mysteries]]\n",
      "-*[[Fiction set in Ancient Greece]]\n",
      "-*[[Greek literature]]\n",
      "-*[[Greek mathematics]]\n",
      "-*[[Greek mythology]]\n",
      "-*[[Greek philosophy]]\n",
      "-*[[Greek theatre]]\n",
      "-*[[History of Athens]]\n",
      "-*[[History of the Greek language]]\n",
      "-*[[List of ancient Greeks]]\n",
      "-*[[List of ancient Greek cities]]\n",
      "-*[[Timeline of Ancient Greece]]\n",
      "-\n",
      "-[[Category:Ancient Greece| ]]\n",
      "-{{Classical antiquity}}\n",
      "-\n",
      "-[[ca:Antiga Grècia]]\n",
      "-[[de:Antikes Griechenland]]\n",
      "-[[et:Vana-Kreeka]]\n",
      "-[[el:Αρχαία Ελλάδα]]\n",
      "-[[es:Grecia Antigua]]\n",
      "-[[eo:Antikva Grekio]]\n",
      "-[[fr:Grèce antique]]\n",
      "-[[ko:고대 그리스]]\n",
      "-[[hr:Stara Grčka]]\n",
      "-[[it:Grecia antica]]\n",
      "-[[he:יוון העתיקה]]\n",
      "-[[lt:Senovės Graikija]]\n",
      "-[[lv:Senā Grieķija]]\n",
      "-[[nl:Geschiedenis van Griekenland - Deel I: de Oudheid]]\n",
      "-[[nds:Ole Grekenland]]\n",
      "-[[ja:古代ギリシア]]\n",
      "-[[pl:Starożytna Grecja]]\n",
      "-[[pt:Grécia Antiga]]\n",
      "-[[ru:Древняя Греция]]\n",
      "-[[sh:Antička Grčka]]\n",
      "-[[scn:Grecia antica]]\n",
      "-[[sr:Античка Грчка]]\n",
      "-[[fi:Antiikin Kreikka]]\n",
      "-[[th:กรีซโบราณ]]\n",
      "-[[uk:Стародавня Греція]]\n",
      "-[[zh:古希腊]]\n",
      "+Luis likes pie\n"
     ]
    }
   ],
   "source": [
    "filtered = processed_dataset.query(\"total_len > 30_000\")\n",
    "before = filtered.iloc[i][\"before\"]\n",
    "after = filtered.iloc[i][\"after\"]\n",
    "for l in difflib.unified_diff(before.splitlines(), after.splitlines()):\n",
    "    print(l)"
   ]
  },
  {
   "cell_type": "markdown",
   "metadata": {},
   "source": [
    "## Dataset"
   ]
  },
  {
   "cell_type": "code",
   "execution_count": 3,
   "metadata": {},
   "outputs": [
    {
     "name": "stderr",
     "output_type": "stream",
     "text": [
      "/Users/nielsbantilan/miniconda3/envs/diff-llm/lib/python3.9/site-packages/tqdm/auto.py:21: TqdmWarning: IProgress not found. Please update jupyter and ipywidgets. See https://ipywidgets.readthedocs.io/en/stable/user_install.html\n",
      "  from .autonotebook import tqdm as notebook_tqdm\n",
      "Filter: 100%|██████████| 8300/8300 [00:00<00:00, 144087.03 examples/s]\n",
      "Map: 100%|██████████| 8165/8165 [00:00<00:00, 15668.05 examples/s]\n"
     ]
    }
   ],
   "source": [
    "from diff_llm import data_loader\n",
    "\n",
    "dataset = data_loader.get_dataset(\"datasets/diff_corpus_medium\")"
   ]
  },
  {
   "cell_type": "code",
   "execution_count": 4,
   "metadata": {},
   "outputs": [
    {
     "data": {
      "text/html": [
       "<div>\n",
       "<style scoped>\n",
       "    .dataframe tbody tr th:only-of-type {\n",
       "        vertical-align: middle;\n",
       "    }\n",
       "\n",
       "    .dataframe tbody tr th {\n",
       "        vertical-align: top;\n",
       "    }\n",
       "\n",
       "    .dataframe thead th {\n",
       "        text-align: right;\n",
       "    }\n",
       "</style>\n",
       "<table border=\"1\" class=\"dataframe\">\n",
       "  <thead>\n",
       "    <tr style=\"text-align: right;\">\n",
       "      <th></th>\n",
       "      <th>example</th>\n",
       "    </tr>\n",
       "  </thead>\n",
       "  <tbody>\n",
       "    <tr>\n",
       "      <th>0</th>\n",
       "      <td>&lt;TITLE&gt;\\nAncient Greece\\n&lt;/TITLE&gt;\\n\\n&lt;CONTEXT&gt;...</td>\n",
       "    </tr>\n",
       "    <tr>\n",
       "      <th>1</th>\n",
       "      <td>&lt;TITLE&gt;\\nAncient Greece\\n&lt;/TITLE&gt;\\n\\n&lt;CONTEXT&gt;...</td>\n",
       "    </tr>\n",
       "    <tr>\n",
       "      <th>2</th>\n",
       "      <td>&lt;TITLE&gt;\\nAncient Greece\\n&lt;/TITLE&gt;\\n\\n&lt;CONTEXT&gt;...</td>\n",
       "    </tr>\n",
       "    <tr>\n",
       "      <th>3</th>\n",
       "      <td>&lt;TITLE&gt;\\nDeep learning\\n&lt;/TITLE&gt;\\n\\n&lt;CONTEXT&gt;\\...</td>\n",
       "    </tr>\n",
       "    <tr>\n",
       "      <th>4</th>\n",
       "      <td>&lt;TITLE&gt;\\nAncient Greece\\n&lt;/TITLE&gt;\\n\\n&lt;CONTEXT&gt;...</td>\n",
       "    </tr>\n",
       "  </tbody>\n",
       "</table>\n",
       "</div>"
      ],
      "text/plain": [
       "                                             example\n",
       "0  <TITLE>\\nAncient Greece\\n</TITLE>\\n\\n<CONTEXT>...\n",
       "1  <TITLE>\\nAncient Greece\\n</TITLE>\\n\\n<CONTEXT>...\n",
       "2  <TITLE>\\nAncient Greece\\n</TITLE>\\n\\n<CONTEXT>...\n",
       "3  <TITLE>\\nDeep learning\\n</TITLE>\\n\\n<CONTEXT>\\...\n",
       "4  <TITLE>\\nAncient Greece\\n</TITLE>\\n\\n<CONTEXT>..."
      ]
     },
     "execution_count": 4,
     "metadata": {},
     "output_type": "execute_result"
    }
   ],
   "source": [
    "df = dataset.to_pandas()\n",
    "df.head()"
   ]
  },
  {
   "cell_type": "code",
   "execution_count": 9,
   "metadata": {},
   "outputs": [
    {
     "data": {
      "text/plain": [
       "<Axes: ylabel='Frequency'>"
      ]
     },
     "execution_count": 9,
     "metadata": {},
     "output_type": "execute_result"
    },
    {
     "data": {
      "image/png": "[encoded data removed]",
      "text/plain": [
       "<Figure size 640x480 with 1 Axes>"
      ]
     },
     "metadata": {},
     "output_type": "display_data"
    }
   ],
   "source": [
    "df[\"example\"].str.len().plot.hist(bins=100, log=True)"
   ]
  },
  {
   "cell_type": "code",
   "execution_count": 70,
   "metadata": {},
   "outputs": [
    {
     "name": "stdout",
     "output_type": "stream",
     "text": [
      "<TITLE>\n",
      "Deep learning\n",
      "</TITLE>\n",
      "\n",
      "<CONTEXT>\n",
      " <ref name=hinton06>{{Cite journal | last1 = Hinton | first1 = G. E. |authorlink1=Geoff Hinton| last2 = Osindero | first2 = S. | last3 = Teh | first3 = Y. W. | doi = 10.1162/neco.2006.18.7.1527 | title = A Fast Learning Algorithm for Deep Belief Nets | journal = [[Neural Computation (journal)|Neural Computation]]| volume = 18 | issue = 7 | pages = 1527–1554 | year = 2006 | pmid = 16764513| pmc = | url = http://www.cs.toronto.edu/~hinton/absps/fastnc.pdf}}</ref><ref name=bengio2012>{{cite arXiv |last=Bengio |first=Yoshua |author-link=Yoshua Bengio |eprint=1206.5533 |title=Practical recommendations for gradient-based training of deep architectures |class=cs.LG|year=2012 }}</ref> showed how a many-layered [[feedforward neural network]] could be effectively pre-trained one layer at a time, treating each layer in turn as an unsupervised [[restricted Boltzmann machine]], then fine-tuning it using supervised [[backpropagation]].<ref name=\"HINTON2007\">G. E. Hinton., \"[http://www.csri.utoronto.ca/~hinton/absps/ticsdraft.pdf Learning multiple layers of representation],\" ''Trends in Cognitive Sciences'', 11, pp. 428–434, 2007.</ref> The papers referred to ''learning'' for ''deep belief nets.''\n",
      "</CONTEXT>\n",
      "\n",
      "<BEFORE>\n",
      "Deep learning is part of state-of-the-art systems in various disciplines, particularly computer vision and [[automatic speech recognition]] (ASR). Results on commonly used evaluation sets such as [[TIMIT]] (ASR) and [[MNIST database|MNIST]] ([[image classification]]), as well as a range of large-vocabulary speech recognition tasks have steadily improved.<ref name=\"HintonDengYu2012\" /><ref>{{cite journal|url=https://www.microsoft.com/en-us/research/publication/new-types-of-deep-neural-network-learning-for-speech-recognition-and-related-applications-an-overview/|title=New types of deep neural network learning for speech recognition and related applications: An overview|journal=Microsoft Research|first1=Li|last1=Deng|first2=Geoffrey|last2=Hinton|first3=Brian|last3=Kingsbury|date=1 May 2013|via=research.microsoft.com}}</ref><ref>{{Cite book |doi=10.1109/icassp.2013.6639345|isbn=978-1-4799-0356-6|chapter=Recent advances in deep learning for speech research at Microsoft|title=2013 IEEE International Conference on Acoustics, Speech and Signal Processing|pages=8604–8608|year=2013|last1=Deng|first1=Li|last2=Li|first2=Jinyu|last3=Huang|first3=Jui-Ting|last4=Yao|first4=Kaisheng|last5=Yu|first5=Dong|last6=Seide|first6=Frank|last7=Seltzer|first7=Michael|last8=Zweig|first8=Geoff|last9=He|first9=Xiaodong|last10=Williams|first10=Jason|last11=Gong|first11=Yifan|last12=Acero|first12=Alex}}</ref> [[Convolutional neural network]]s (CNNs) were superseded for ASR by CTC<ref name=\":1\" /> for LSTM.<ref name=\":0\" /><ref name=\"sak2015\" /><ref name=\"sak2014\">{{Cite web|url=https://static.googleusercontent.com/media/research.google.com/en//pubs/archive/43905.pdf|title=Long Short-Term Memory recurrent neural network architectures for large scale acoustic modeling|last=Sak|first=Hasim|last2=Senior|first2=Andrew|date=2014|website=|accessdate=|last3=Beaufays|first3=Francoise|archive-url=https://web.archive.org/web/20180424203806/https://static.googleusercontent.com/media/research.google.com/en//pubs/archive/43905.pdf|archive-date=2018-04-24|url-status=dead}}</ref><ref name=\"liwu2015\">{{cite arxiv |eprint=1410.4281|last1=Li|first1=Xiangang|title=Constructing Long Short-Term Memory based Deep Recurrent Neural Networks for Large Vocabulary Speech Recognition|last2=Wu|first2=Xihong|class=cs.CL|year=2014}}</ref><ref name=\"zen2015\">{{Cite web|url=https://static.googleusercontent.com/media/research.google.com/en//pubs/archive/43266.pdf|title=Unidirectional Long Short-Term Memory Recurrent Neural Network with Recurrent Output Layer for Low-Latency Speech Synthesis|last=Zen|first=Heiga|last2=Sak|first2=Hasim|date=2015|website=Google.com|publisher=ICASSP|pages=4470–4474|accessdate=}}</ref><ref name=\"CNNspeech2013\">{{Cite web|url=https://static.googleusercontent.com/media/research.google.com/en//pubs/archive/43266.pdf|title=A deep convolutional neural network using heterogeneous pooling for trading acoustic invariance with phonetic confusion|last=Deng|first=L.|last2=Abdel-Hamid|first2=O.|date=2013|website=Google.com|publisher=ICASSP|accessdate=|last3=Yu|first3=D.}}</ref><ref name=\":2\">{{Cite book |doi=10.1109/icassp.2013.6639347|isbn=978-1-4799-0356-6|chapter=Deep convolutional neural networks for LVCSR|title=2013 IEEE International Conference on Acoustics, Speech and Signal Processing|pages=8614–8618|year=2013|last1=Sainath|first1=Tara N.|last2=Mohamed|first2=Abdel-Rahman|last3=Kingsbury|first3=Brian|last4=Ramabhadran|first4=Bhuvana}}</ref> but are more successful in computer vision.\n",
      "</BEFORE>\n",
      "\n",
      "<REVISION_PROMPT>\n",
      "microsoft research source\n",
      "</REVISION_PROMPT>\n",
      "\n",
      "<AFTER>\n",
      "Deep learning is part of state-of-the-art systems in various disciplines, particularly computer vision and [[automatic speech recognition]] (ASR). Results on commonly used evaluation sets such as [[TIMIT]] (ASR) and [[MNIST database|MNIST]] ([[image classification]]), as well as a range of large-vocabulary speech recognition tasks have steadily improved.<ref name=\"HintonDengYu2012\" /><ref>{{cite journal|url=https://www.microsoft.com/en-us/research/publication/new-types-of-deep-neural-network-learning-for-speech-recognition-and-related-applications-an-overview/|title=New types of deep neural network learning for speech recognition and related applications: An overview|journal=Microsoft Research|first1=Li|last1=Deng|first2=Geoffrey|last2=Hinton|first3=Brian|last3=Kingsbury|date=1 May 2013|via=research.microsoft.com|citeseerx=10.1.1.368.1123}}</ref><ref>{{Cite book |doi=10.1109/icassp.2013.6639345|isbn=978-1-4799-0356-6|chapter=Recent advances in deep learning for speech research at Microsoft|title=2013 IEEE International Conference on Acoustics, Speech and Signal Processing|pages=8604–8608|year=2013|last1=Deng|first1=Li|last2=Li|first2=Jinyu|last3=Huang|first3=Jui-Ting|last4=Yao|first4=Kaisheng|last5=Yu|first5=Dong|last6=Seide|first6=Frank|last7=Seltzer|first7=Michael|last8=Zweig|first8=Geoff|last9=He|first9=Xiaodong|last10=Williams|first10=Jason|last11=Gong|first11=Yifan|last12=Acero|first12=Alex}}</ref> [[Convolutional neural network]]s (CNNs) were superseded for ASR by CTC<ref name=\":1\" /> for LSTM.<ref name=\":0\" /><ref name=\"sak2015\" /><ref name=\"sak2014\">{{Cite web|url=https://static.googleusercontent.com/media/research.google.com/en//pubs/archive/43905.pdf|title=Long Short-Term Memory recurrent neural network architectures for large scale acoustic modeling|last=Sak|first=Hasim|last2=Senior|first2=Andrew|date=2014|website=|accessdate=|last3=Beaufays|first3=Francoise|archive-url=https://web.archive.org/web/20180424203806/https://static.googleusercontent.com/media/research.google.com/en//pubs/archive/43905.pdf|archive-date=2018-04-24|url-status=dead}}</ref><ref name=\"liwu2015\">{{cite arxiv |eprint=1410.4281|last1=Li|first1=Xiangang|title=Constructing Long Short-Term Memory based Deep Recurrent Neural Networks for Large Vocabulary Speech Recognition|last2=Wu|first2=Xihong|class=cs.CL|year=2014}}</ref><ref name=\"zen2015\">{{Cite web|url=https://static.googleusercontent.com/media/research.google.com/en//pubs/archive/43266.pdf|title=Unidirectional Long Short-Term Memory Recurrent Neural Network with Recurrent Output Layer for Low-Latency Speech Synthesis|last=Zen|first=Heiga|last2=Sak|first2=Hasim|date=2015|website=Google.com|publisher=ICASSP|pages=4470–4474|accessdate=}}</ref><ref name=\"CNNspeech2013\">{{Cite web|url=https://static.googleusercontent.com/media/research.google.com/en//pubs/archive/43266.pdf|title=A deep convolutional neural network using heterogeneous pooling for trading acoustic invariance with phonetic confusion|last=Deng|first=L.|last2=Abdel-Hamid|first2=O.|date=2013|website=Google.com|publisher=ICASSP|accessdate=|last3=Yu|first3=D.}}</ref><ref name=\":2\">{{Cite book |doi=10.1109/icassp.2013.6639347|isbn=978-1-4799-0356-6|chapter=Deep convolutional neural networks for LVCSR|title=2013 IEEE International Conference on Acoustics, Speech and Signal Processing|pages=8614–8618|year=2013|last1=Sainath|first1=Tara N.|last2=Mohamed|first2=Abdel-Rahman|last3=Kingsbury|first3=Brian|last4=Ramabhadran|first4=Bhuvana}}</ref> but are more successful in computer vision.\n",
      "</AFTER>\n"
     ]
    }
   ],
   "source": [
    "print(df[\"example\"][df[\"example\"].str.len().between(5_000, 10_000)].sample(1).iat[0])"
   ]
  },
  {
   "cell_type": "markdown",
   "metadata": {},
   "source": [
    "Rough heuristic: < 10,000 characters seems to filter out a lot of spam changes"
   ]
  },
  {
   "cell_type": "markdown",
   "metadata": {},
   "source": [
    "## Modeling Strategies\n",
    "\n",
    "- Filter out data that seems to be fixing spam.\n",
    "- Include all the data, and provide more context with revision comment."
   ]
  }
 ],
 "metadata": {
  "kernelspec": {
   "display_name": "diff-llm",
   "language": "python",
   "name": "python3"
  },
  "language_info": {
   "codemirror_mode": {
    "name": "ipython",
    "version": 3
   },
   "file_extension": ".py",
   "mimetype": "text/x-python",
   "name": "python",
   "nbconvert_exporter": "python",
   "pygments_lexer": "ipython3",
   "version": "3.9.17"
  },
  "orig_nbformat": 4
 },
 "nbformat": 4,
 "nbformat_minor": 2
}
